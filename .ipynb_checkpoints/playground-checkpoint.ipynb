{
 "cells": [
  {
   "cell_type": "code",
   "execution_count": 82,
   "metadata": {
    "collapsed": false
   },
   "outputs": [],
   "source": [
    "import csv\n",
    "import pandas as pd\n",
    "import json\n",
    "df = pd.read_csv('./data/topics.csv')\n",
    "from data import topic_dictionary\n",
    "import operator"
   ]
  },
  {
   "cell_type": "code",
   "execution_count": 77,
   "metadata": {
    "collapsed": false
   },
   "outputs": [
    {
     "data": {
      "text/plain": [
       "{'Entertainment': {'Entertainment1': ('Should Kim Kardashian be famous?', 17),\n",
       "  'Entertainment2': ('Is Brad Pitt a bad father?', 13),\n",
       "  'Entertainment3': ('Is Seinfeld better than the Simpsons', 11)},\n",
       " 'Morality': {'Morality1': ('Is watching porn bad for you?', 61),\n",
       "  'Morality2': ('Is it justified to use drones in warfare?', 55),\n",
       "  'Morality3': ('Is it OK to lie to your significant other?', 32),\n",
       "  'Morality4': ('Should we restrict human genetic engineering?', 19)},\n",
       " 'Politics': {'Politics1': ('Should you vote for a third party', 27),\n",
       "  'Politics2': ('Should drugs be decriminalized?', 25),\n",
       "  'Politics3': ('Should we consider religious arguments in politics?', 14),\n",
       "  'Politics4': ('Should we raise the minimum wage to $15', 9)},\n",
       " 'Sports': {'Sports1': ('Should Kaepernick stand for the anthem?', 43),\n",
       "  'Sports2': ('Are NCAA athletes indentured servants?', 24),\n",
       "  'Sports3': ('Should we legalize sports gambling?', 23),\n",
       "  'Sports4': ('Did the NFL cover up the concussion crisis?', 4)}}"
      ]
     },
     "execution_count": 77,
     "metadata": {},
     "output_type": "execute_result"
    }
   ],
   "source": [
    "# find a common storage (json object?)\n",
    "\n",
    "# write a function that updates the count and stores it again\n",
    "\n",
    "# make the button call this function and perhaps a javascript function that reloads the table \n",
    "# or organizes it if necessary\n",
    "\n",
    "\n",
    "# prettify the table \n",
    "\n",
    "# finish the website\n",
    "topic_dictionary"
   ]
  },
  {
   "cell_type": "code",
   "execution_count": 98,
   "metadata": {
    "collapsed": false
   },
   "outputs": [
    {
     "data": {
      "text/plain": [
       "[('Morality4', ('Should we restrict human genetic engineering?', 19)),\n",
       " ('Morality1', ('Is watching porn bad for you?', 61)),\n",
       " ('Morality2', ('Is it justified to use drones in warfare?', 55)),\n",
       " ('Morality3', ('Is it OK to lie to your significant other?', 32))]"
      ]
     },
     "execution_count": 98,
     "metadata": {},
     "output_type": "execute_result"
    }
   ],
   "source": [
    "list(topic_dictionary['Morality'].iteritems())"
   ]
  },
  {
   "cell_type": "code",
   "execution_count": 99,
   "metadata": {
    "collapsed": false
   },
   "outputs": [
    {
     "ename": "TypeError",
     "evalue": "'NoneType' object has no attribute '__getitem__'",
     "output_type": "error",
     "traceback": [
      "\u001b[0;31m---------------------------------------------------------------------------\u001b[0m",
      "\u001b[0;31mTypeError\u001b[0m                                 Traceback (most recent call last)",
      "\u001b[0;32m<ipython-input-99-0c69045f55a6>\u001b[0m in \u001b[0;36m<module>\u001b[0;34m()\u001b[0m\n\u001b[1;32m      1\u001b[0m \u001b[0mnew_topic_dict\u001b[0m \u001b[0;34m=\u001b[0m \u001b[0;34m{\u001b[0m\u001b[0;34m}\u001b[0m\u001b[0;34m\u001b[0m\u001b[0m\n\u001b[1;32m      2\u001b[0m \u001b[0;32mfor\u001b[0m \u001b[0;34m(\u001b[0m\u001b[0mcategory\u001b[0m\u001b[0;34m,\u001b[0m \u001b[0mcategory_dict\u001b[0m\u001b[0;34m)\u001b[0m \u001b[0;32min\u001b[0m \u001b[0mtopic_dictionary\u001b[0m\u001b[0;34m.\u001b[0m\u001b[0miteritems\u001b[0m\u001b[0;34m(\u001b[0m\u001b[0;34m)\u001b[0m\u001b[0;34m:\u001b[0m\u001b[0;34m\u001b[0m\u001b[0m\n\u001b[0;32m----> 3\u001b[0;31m     \u001b[0mquestions\u001b[0m \u001b[0;34m=\u001b[0m \u001b[0mlist\u001b[0m\u001b[0;34m(\u001b[0m\u001b[0mcategory_dict\u001b[0m\u001b[0;34m.\u001b[0m\u001b[0miteritems\u001b[0m\u001b[0;34m(\u001b[0m\u001b[0;34m)\u001b[0m\u001b[0;34m)\u001b[0m\u001b[0;34m.\u001b[0m\u001b[0msort\u001b[0m\u001b[0;34m(\u001b[0m\u001b[0mkey\u001b[0m\u001b[0;34m=\u001b[0m\u001b[0;32mlambda\u001b[0m \u001b[0melem\u001b[0m\u001b[0;34m:\u001b[0m \u001b[0melem\u001b[0m\u001b[0;34m[\u001b[0m\u001b[0;36m1\u001b[0m\u001b[0;34m]\u001b[0m\u001b[0;34m[\u001b[0m\u001b[0;36m1\u001b[0m\u001b[0;34m]\u001b[0m\u001b[0;34m)\u001b[0m\u001b[0;34m[\u001b[0m\u001b[0;34m:\u001b[0m\u001b[0;34m:\u001b[0m\u001b[0;34m-\u001b[0m\u001b[0;36m1\u001b[0m\u001b[0;34m]\u001b[0m\u001b[0;34m\u001b[0m\u001b[0m\n\u001b[0m\u001b[1;32m      4\u001b[0m \u001b[0mnew_topic_dict\u001b[0m\u001b[0;34m\u001b[0m\u001b[0m\n",
      "\u001b[0;31mTypeError\u001b[0m: 'NoneType' object has no attribute '__getitem__'"
     ]
    }
   ],
   "source": [
    "new_topic_dict = {}\n",
    "for (category, category_dict) in topic_dictionary.iteritems():\n",
    "    questions = list(category_dict.iteritems())\n",
    "    questions.sort(key=lambda elem: elem[1][1])\n",
    "    questions = question[::-1]\n",
    "    new_topic_dict[category] = questions"
   ]
  },
  {
   "cell_type": "code",
   "execution_count": 93,
   "metadata": {
    "collapsed": false
   },
   "outputs": [
    {
     "data": {
      "text/plain": [
       "[('Entertainment3', ('Is Seinfeld better than the Simpsons', 11)),\n",
       " ('Entertainment2', ('Is Brad Pitt a bad father?', 13)),\n",
       " ('Entertainment1', ('Should Kim Kardashian be famous?', 17))]"
      ]
     },
     "execution_count": 93,
     "metadata": {},
     "output_type": "execute_result"
    }
   ],
   "source": [
    "d = [v for v in {'Entertainment1': ('Should Kim Kardashian be famous?', 17),\n",
    "  'Entertainment2': ('Is Brad Pitt a bad father?', 13),\n",
    "  'Entertainment3': ('Is Seinfeld better than the Simpsons', 11)}.iteritems()]\n",
    "d.sort(key=lambda elem: elem[1][1])\n",
    "d"
   ]
  },
  {
   "cell_type": "code",
   "execution_count": 74,
   "metadata": {
    "collapsed": false
   },
   "outputs": [],
   "source": [
    "def save_vote(json_path, topic_id, direction):\n",
    "    # usage: save_vote(\"topics.json\", 'Morality1', 'down')\n",
    "    with open(json_path, 'r') as fp:\n",
    "        topic_dict = json.load(fp)\n",
    "        \n",
    "    # vital that ids be digits only\n",
    "    category = ''.join([i for i in str(topic_id) if not i.isdigit()])\n",
    "    if direction == \"up\":\n",
    "        topic_dict[category][topic_id][1] += 1\n",
    "    elif direction == \"down\": \n",
    "        topic_dict[category][topic_id][1] -= 1\n",
    "    \n",
    "    with open(json_path, 'w') as fp:\n",
    "        json.dump(topic_dict, fp)"
   ]
  },
  {
   "cell_type": "code",
   "execution_count": 68,
   "metadata": {
    "collapsed": false
   },
   "outputs": [
    {
     "data": {
      "text/plain": [
       "{u'Entertainment': {u'Entertainment1': [u'Should Kim Kardashian be famous?',\n",
       "   17],\n",
       "  u'Entertainment2': [u'Is Brad Pitt a bad father?', 13],\n",
       "  u'Entertainment3': [u'Is Seinfeld better than the Simpsons', 11]},\n",
       " u'Morality': {u'Morality1': [u'Is watching porn bad for you?', 62],\n",
       "  u'Morality2': [u'Is it justified to use drones in warfare?', 55],\n",
       "  u'Morality3': [u'Is it OK to lie to your significant other?', 32],\n",
       "  u'Morality4': [u'Should we restrict human genetic engineering?', 19]},\n",
       " u'Politics': {u'Politics1': [u'Should you vote for a third party', 27],\n",
       "  u'Politics2': [u'Should drugs be decriminalized?', 25],\n",
       "  u'Politics3': [u'Should we consider religious arguments in politics?', 14],\n",
       "  u'Politics4': [u'Should we raise the minimum wage to $15', 9]},\n",
       " u'Sports': {u'Sports1': [u'Should Kaepernick stand for the anthem?', 43],\n",
       "  u'Sports2': [u'Are NCAA athletes indentured servants?', 24],\n",
       "  u'Sports3': [u'Should we legalize sports gambling?', 23],\n",
       "  u'Sports4': [u'Did the NFL cover up the concussion crisis?', 4]}}"
      ]
     },
     "execution_count": 68,
     "metadata": {},
     "output_type": "execute_result"
    }
   ],
   "source": [
    "vote('Morality1', 'up')"
   ]
  },
  {
   "cell_type": "code",
   "execution_count": null,
   "metadata": {
    "collapsed": true
   },
   "outputs": [],
   "source": []
  }
 ],
 "metadata": {
  "kernelspec": {
   "display_name": "Python 2",
   "language": "python",
   "name": "python2"
  }
 },
 "nbformat": 4,
 "nbformat_minor": 0
}
