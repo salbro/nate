{
 "cells": [
  {
   "cell_type": "code",
   "execution_count": 7,
   "metadata": {
    "collapsed": false
   },
   "outputs": [],
   "source": [
    "import json\n",
    "from pprint import pprint\n",
    "import utils"
   ]
  },
  {
   "cell_type": "code",
   "execution_count": 8,
   "metadata": {
    "collapsed": false
   },
   "outputs": [],
   "source": [
    "# with open(\"topics.json\", \"r\") as fp:\n",
    "#     tops = json.load(fp)\n",
    "# pprint(tops)\n",
    "\n",
    "# newnew = {}\n",
    "# for (topic, topic_dict) in tops.items():\n",
    "#     newnew[topic] = {}\n",
    "#     for qid, (q, up) in topic_dict.items():\n",
    "#         qdict = {\"question\": q, \"upvotes\": up, \"downvotes\": 25}\n",
    "#         newnew[topic][qid] = qdict\n",
    "\n",
    "# with open(\"topics.json\", \"w\") as fp:\n",
    "#     json.dump(newnew, fp)"
   ]
  },
  {
   "cell_type": "code",
   "execution_count": 9,
   "metadata": {
    "collapsed": false
   },
   "outputs": [],
   "source": [
    "# newnew"
   ]
  },
  {
   "cell_type": "code",
   "execution_count": 10,
   "metadata": {
    "collapsed": false
   },
   "outputs": [
    {
     "ename": "NameError",
     "evalue": "name 'TABLE_HEIGHT' is not defined",
     "output_type": "error",
     "traceback": [
      "\u001b[0;31m------------------------------------------------------------\u001b[0m",
      "\u001b[0;31mNameError\u001b[0m                  Traceback (most recent call last)",
      "\u001b[0;32m<ipython-input-10-f036b7dc1c53>\u001b[0m in \u001b[0;36m<module>\u001b[0;34m()\u001b[0m\n\u001b[0;32m----> 1\u001b[0;31m \u001b[0msorted_qs\u001b[0m \u001b[0;34m=\u001b[0m \u001b[0mutils\u001b[0m\u001b[0;34m.\u001b[0m\u001b[0mget_sorted_questions\u001b[0m\u001b[0;34m(\u001b[0m\u001b[0mtable_height\u001b[0m\u001b[0;34m=\u001b[0m\u001b[0mTABLE_HEIGHT\u001b[0m\u001b[0;34m,\u001b[0m \u001b[0mjson_storage\u001b[0m\u001b[0;34m=\u001b[0m\u001b[0mJSON_STORAGE\u001b[0m\u001b[0;34m)\u001b[0m\u001b[0;34m\u001b[0m\u001b[0m\n\u001b[0m",
      "\u001b[0;31mNameError\u001b[0m: name 'TABLE_HEIGHT' is not defined"
     ]
    }
   ],
   "source": [
    "sorted_qs = utils.get_sorted_questions(table_height=TABLE_HEIGHT, json_storage=JSON_STORAGE)\n"
   ]
  },
  {
   "cell_type": "code",
   "execution_count": null,
   "metadata": {
    "collapsed": true
   },
   "outputs": [],
   "source": []
  }
 ],
 "metadata": {
  "kernelspec": {
   "display_name": "Python 3",
   "language": "python",
   "name": "python3"
  },
  "language_info": {
   "codemirror_mode": {
    "name": "ipython",
    "version": 3
   },
   "file_extension": ".py",
   "mimetype": "text/x-python",
   "name": "python",
   "nbconvert_exporter": "python",
   "pygments_lexer": "ipython3",
   "version": "3.5.1"
  }
 },
 "nbformat": 4,
 "nbformat_minor": 2
}
