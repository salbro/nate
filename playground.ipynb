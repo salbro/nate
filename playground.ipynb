{
 "cells": [
  {
   "cell_type": "code",
   "execution_count": 9,
   "metadata": {
    "collapsed": false
   },
   "outputs": [
    {
     "name": "stdout",
     "output_type": "stream",
     "text": [
      "stephenpalbro@gmail.com atdpftwsmslat\n"
     ]
    }
   ],
   "source": [
    "import json\n",
    "d = {'email': 'stephenpalbro@gmail.com', 'password': 'atdpftwsmslat'}\n",
    "\n",
    "with open(\"C:/Users/salbro/email.json\", 'w') as fp:\n",
    "    json.dump(d, fp)\n",
    "\n",
    "with open(\"C:/Users/salbro/email.json\", 'r') as fp:\n",
    "    d = json.load(fp)\n",
    "    email = d['email']\n",
    "    pw = d['password']\n",
    "\n",
    "print(email, pw)"
   ]
  },
  {
   "cell_type": "code",
   "execution_count": null,
   "metadata": {
    "collapsed": false
   },
   "outputs": [],
   "source": []
  },
  {
   "cell_type": "code",
   "execution_count": null,
   "metadata": {
    "collapsed": false
   },
   "outputs": [],
   "source": []
  },
  {
   "cell_type": "code",
   "execution_count": null,
   "metadata": {
    "collapsed": false
   },
   "outputs": [],
   "source": []
  },
  {
   "cell_type": "code",
   "execution_count": null,
   "metadata": {
    "collapsed": true
   },
   "outputs": [],
   "source": []
  }
 ],
 "metadata": {
  "kernelspec": {
   "display_name": "Python 3",
   "language": "python",
   "name": "python3"
  },
  "language_info": {
   "codemirror_mode": {
    "name": "ipython",
    "version": 3
   },
   "file_extension": ".py",
   "mimetype": "text/x-python",
   "name": "python",
   "nbconvert_exporter": "python",
   "pygments_lexer": "ipython3",
   "version": "3.5.1"
  }
 },
 "nbformat": 4,
 "nbformat_minor": 0
}
