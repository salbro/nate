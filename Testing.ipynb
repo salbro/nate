{
 "cells": [
  {
   "cell_type": "code",
   "execution_count": 4,
   "metadata": {
    "collapsed": true
   },
   "outputs": [],
   "source": [
    "import operator\n",
    "topics = ['Politics', 'Sports', 'Morality', 'Entertainment']\n",
    "topic_dict = {'Politics':\n",
    "[('Should you vote for a third party', 27),\n",
    "('Should drugs be decriminalized?', 25),\n",
    "('Should we consider religious arguments in politics?', 14),\n",
    "('Should we raise the minimum wage to $15', 9)], 'Sports':\n",
    "[('Should Kaepernick stand for the anthem?', 43),\n",
    "('Are NCAA athletes indentured servants?', 24),\n",
    "('Should we legalize sports gambling?', 23),\n",
    "('Did the NFL cover up the concussion crisis?', 4)], 'Morality':\n",
    "[('Is watching porn bad for you?', 61),\n",
    " ('Is it justified to use drones in warfare?', 55),\n",
    " ('Is it OK to lie to your significant other?', 32),\n",
    " ('Should we restrict human genetic engineering?', 19)], 'Entertainment':\n",
    " [('Should Kim Kardashian be famous?', 17),\n",
    " ('Is Brad Pitt a bad father?', 13),\n",
    " ('Is Seinfeld better than the Simpsons', 11)]\n",
    "}"
   ]
  },
  {
   "cell_type": "code",
   "execution_count": 7,
   "metadata": {
    "collapsed": false
   },
   "outputs": [
    {
     "name": "stdout",
     "output_type": "stream",
     "text": [
      "[('Should you vote for a third party', 27), ('Should drugs be decriminalized?', 25), ('Should we consider religious arguments in politics?', 14), ('Should we raise the minimum wage to $15', 9)]\n",
      "[('Is watching porn bad for you?', 61), ('Is it justified to use drones in warfare?', 55), ('Is it OK to lie to your significant other?', 32), ('Should we restrict human genetic engineering?', 19)]\n",
      "[('Should Kim Kardashian be famous?', 17), ('Is Brad Pitt a bad father?', 13), ('Is Seinfeld better than the Simpsons', 11)]\n",
      "[('Should Kaepernick stand for the anthem?', 43), ('Are NCAA athletes indentured servants?', 24), ('Should we legalize sports gambling?', 23), ('Did the NFL cover up the concussion crisis?', 4)]\n"
     ]
    }
   ],
   "source": [
    "for topic, questions in topic_dict.iteritems():\n",
    "    questions.sort(key=operator.itemgetter(1))\n",
    "    print questions[::-1]"
   ]
  },
  {
   "cell_type": "code",
   "execution_count": null,
   "metadata": {
    "collapsed": true
   },
   "outputs": [],
   "source": []
  }
 ],
 "metadata": {
  "kernelspec": {
   "display_name": "Python 2",
   "language": "python",
   "name": "python2"
  },
  "language_info": {
   "codemirror_mode": {
    "name": "ipython",
    "version": 2
   },
   "file_extension": ".py",
   "mimetype": "text/x-python",
   "name": "python",
   "nbconvert_exporter": "python",
   "pygments_lexer": "ipython2",
   "version": "2.7.11"
  }
 },
 "nbformat": 4,
 "nbformat_minor": 0
}
