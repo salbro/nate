{
 "cells": [
  {
   "cell_type": "code",
   "execution_count": 11,
   "metadata": {
    "collapsed": false
   },
   "outputs": [],
   "source": [
    "import json\n",
    "from pprint import pprint\n",
    "import utils\n",
    "from constants import *"
   ]
  },
  {
   "cell_type": "code",
   "execution_count": 12,
   "metadata": {
    "collapsed": false
   },
   "outputs": [],
   "source": [
    "# with open(\"topics.json\", \"r\") as fp:\n",
    "#     tops = json.load(fp)\n",
    "# pprint(tops)\n",
    "\n",
    "# newnew = {}\n",
    "# for (topic, topic_dict) in tops.items():\n",
    "#     newnew[topic] = {}\n",
    "#     for qid, (q, up) in topic_dict.items():\n",
    "#         qdict = {\"question\": q, \"upvotes\": up, \"downvotes\": 25}\n",
    "#         newnew[topic][qid] = qdict\n",
    "\n",
    "# with open(\"topics.json\", \"w\") as fp:\n",
    "#     json.dump(newnew, fp)"
   ]
  },
  {
   "cell_type": "code",
   "execution_count": 13,
   "metadata": {
    "collapsed": false
   },
   "outputs": [],
   "source": [
    "# newnew"
   ]
  },
  {
   "cell_type": "code",
   "execution_count": 14,
   "metadata": {
    "collapsed": false
   },
   "outputs": [],
   "source": [
    "sorted_qs = utils.get_sorted_questions(table_height=TABLE_HEIGHT, json_storage=JSON_STORAGE)\n"
   ]
  },
  {
   "cell_type": "code",
   "execution_count": 18,
   "metadata": {
    "collapsed": false
   },
   "outputs": [
    {
     "name": "stdout",
     "output_type": "stream",
     "text": [
      "('Entertainment1', {'downvotes': 25, 'upvotes': 13, 'question': 'Should Kim Kardashian be famous?'})\n",
      "('Sports3', {'downvotes': 25, 'upvotes': 40, 'question': 'Should we legalize sports gambling?'})\n",
      "('Politics1', {'downvotes': 25, 'upvotes': 16, 'question': 'Should you vote for a third party'})\n",
      "('Morality3', {'downvotes': 25, 'upvotes': 42, 'question': 'Is it OK to lie to your significant other?'})\n",
      "\n",
      "('Entertainment3', {'downvotes': 25, 'upvotes': 12, 'question': 'Is Seinfeld better than the Simpsons'})\n",
      "('Sports1', {'downvotes': 25, 'upvotes': 39, 'question': 'Should Kaepernick stand for the anthem?'})\n",
      "('Politics2', {'downvotes': 25, 'upvotes': 15, 'question': 'Should drugs be decriminalized?'})\n",
      "('Morality2', {'downvotes': 25, 'upvotes': 38, 'question': 'Is it justified to use drones in warfare?'})\n",
      "\n",
      "('Entertainment2', {'downvotes': 25, 'upvotes': 11, 'question': 'Is Brad Pitt a bad father?'})\n",
      "('Sports2', {'downvotes': 25, 'upvotes': 35, 'question': 'Are NCAA athletes indentured servants?'})\n",
      "('Politics3', {'downvotes': 25, 'upvotes': 13, 'question': 'Should we consider religious arguments in politics?'})\n",
      "('Morality1', {'downvotes': 25, 'upvotes': 37, 'question': 'Is watching porn bad for you?'})\n",
      "\n",
      "None\n",
      "('Sports4', {'downvotes': 25, 'upvotes': 6, 'question': 'Did the NFL cover up the concussion crisis?'})\n",
      "('Politics4', {'downvotes': 25, 'upvotes': 9, 'question': 'Should we raise the minimum wage to $15'})\n",
      "('Morality4', {'downvotes': 25, 'upvotes': 20, 'question': 'Should we restrict human genetic engineering?'})\n",
      "\n"
     ]
    }
   ],
   "source": [
    "for i in range(4):\n",
    "    for topic in sorted_qs.keys():\n",
    "        print(sorted_qs[topic][i])\n",
    "    print()"
   ]
  },
  {
   "cell_type": "code",
   "execution_count": null,
   "metadata": {
    "collapsed": true
   },
   "outputs": [],
   "source": []
  }
 ],
 "metadata": {
  "kernelspec": {
   "display_name": "Python 3",
   "language": "python",
   "name": "python3"
  },
  "language_info": {
   "codemirror_mode": {
    "name": "ipython",
    "version": 3
   },
   "file_extension": ".py",
   "mimetype": "text/x-python",
   "name": "python",
   "nbconvert_exporter": "python",
   "pygments_lexer": "ipython3",
   "version": "3.5.1"
  }
 },
 "nbformat": 4,
 "nbformat_minor": 2
}
